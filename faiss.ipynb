{
 "cells": [
  {
   "cell_type": "code",
   "execution_count": 1,
   "id": "907c05f4-8a59-4b54-86ed-ba26c5782208",
   "metadata": {
    "execution": {
     "iopub.execute_input": "2025-10-15T16:15:39.852222Z",
     "iopub.status.busy": "2025-10-15T16:15:39.851650Z",
     "iopub.status.idle": "2025-10-15T16:16:02.236775Z",
     "shell.execute_reply": "2025-10-15T16:16:02.235496Z",
     "shell.execute_reply.started": "2025-10-15T16:15:39.852173Z"
    }
   },
   "outputs": [],
   "source": [
    "# ==========================================\n",
    "# FAISS Mastery Notebook: Beginner → Advanced\n",
    "# ==========================================\n",
    "\n",
    "#%pip install faiss-cpu\n",
    "#%pip install sentence-transformers\n",
    "\n",
    "# -------------------------------\n",
    "# 1. Imports and Setup\n",
    "# -------------------------------\n",
    "import numpy as np\n",
    "import faiss\n",
    "from sentence_transformers import SentenceTransformer\n"
   ]
  },
  {
   "cell_type": "code",
   "execution_count": 2,
   "id": "4cf57489-48c0-4baf-b0d7-7a133d8ce61e",
   "metadata": {
    "execution": {
     "iopub.execute_input": "2025-10-15T16:16:02.240646Z",
     "iopub.status.busy": "2025-10-15T16:16:02.239344Z",
     "iopub.status.idle": "2025-10-15T16:16:02.253253Z",
     "shell.execute_reply": "2025-10-15T16:16:02.251835Z",
     "shell.execute_reply.started": "2025-10-15T16:16:02.240565Z"
    }
   },
   "outputs": [],
   "source": [
    "# -------------------------------\n",
    "# 2. Generate Sample Vectors\n",
    "# -------------------------------\n",
    "d = 64          # dimension\n",
    "nb = 1000       # number of database vectors\n",
    "np.random.seed(42)\n",
    "vectors = np.random.random((nb, d)).astype('float32')  # database vectors\n",
    "\n",
    "# Query vector\n",
    "xq = np.random.random((1, d)).astype('float32')\n"
   ]
  },
  {
   "cell_type": "code",
   "execution_count": 3,
   "id": "22542498-333a-461a-bbc1-21434a5c37ac",
   "metadata": {
    "execution": {
     "iopub.execute_input": "2025-10-15T16:16:02.256334Z",
     "iopub.status.busy": "2025-10-15T16:16:02.255598Z",
     "iopub.status.idle": "2025-10-15T16:16:02.273203Z",
     "shell.execute_reply": "2025-10-15T16:16:02.271670Z",
     "shell.execute_reply.started": "2025-10-15T16:16:02.256272Z"
    }
   },
   "outputs": [
    {
     "name": "stdout",
     "output_type": "stream",
     "text": [
      "Total vectors in Flat Index: 1000\n",
      "\n",
      "[Flat Index] Top-5 Neighbors\n",
      "Indices: [[502 606 234  85 162]]\n"
     ]
    }
   ],
   "source": [
    "# -------------------------------\n",
    "# 3. Exact Search: IndexFlatL2\n",
    "# -------------------------------\n",
    "index_flat = faiss.IndexFlatL2(d)  # L2 distance\n",
    "index_flat.add(vectors)\n",
    "print(\"Total vectors in Flat Index:\", index_flat.ntotal)\n",
    "\n",
    "k = 5\n",
    "distances, indices = index_flat.search(xq, k)\n",
    "print(\"\\n[Flat Index] Top-5 Neighbors\")\n",
    "print(\"Indices:\", indices)"
   ]
  },
  {
   "cell_type": "code",
   "execution_count": 4,
   "id": "6344c371-7b57-4621-b5db-eb37c30215d0",
   "metadata": {
    "execution": {
     "iopub.execute_input": "2025-10-15T16:16:02.276066Z",
     "iopub.status.busy": "2025-10-15T16:16:02.275581Z",
     "iopub.status.idle": "2025-10-15T16:16:02.310914Z",
     "shell.execute_reply": "2025-10-15T16:16:02.309057Z",
     "shell.execute_reply.started": "2025-10-15T16:16:02.276027Z"
    }
   },
   "outputs": [
    {
     "name": "stdout",
     "output_type": "stream",
     "text": [
      "\n",
      "[IVF Index] Top-5 Neighbors\n",
      "Indices: [[502 606 162 205 466]]\n",
      "Distances: [[6.099058  6.650052  6.9527254 7.1432023 7.1819143]]\n"
     ]
    }
   ],
   "source": [
    "# -------------------------------\n",
    "# 4. IVF (Inverted File Index) - ANN\n",
    "# -------------------------------\n",
    "nlist = 50                  # number of clusters\n",
    "quantizer = faiss.IndexFlatL2(d)\n",
    "index_ivf = faiss.IndexIVFFlat(quantizer, d, nlist)\n",
    "index_ivf.train(vectors)\n",
    "index_ivf.add(vectors)\n",
    "index_ivf.nprobe = 10       # clusters to search\n",
    "\n",
    "distances, indices = index_ivf.search(xq, k)\n",
    "print(\"\\n[IVF Index] Top-5 Neighbors\")\n",
    "print(\"Indices:\", indices)\n",
    "print(\"Distances:\", distances)\n"
   ]
  },
  {
   "cell_type": "code",
   "execution_count": 5,
   "id": "574fd718-5fb6-413b-83b8-9cd04ddc2245",
   "metadata": {
    "execution": {
     "iopub.execute_input": "2025-10-15T16:16:02.313634Z",
     "iopub.status.busy": "2025-10-15T16:16:02.312809Z",
     "iopub.status.idle": "2025-10-15T16:16:02.386656Z",
     "shell.execute_reply": "2025-10-15T16:16:02.385002Z",
     "shell.execute_reply.started": "2025-10-15T16:16:02.313573Z"
    }
   },
   "outputs": [
    {
     "name": "stdout",
     "output_type": "stream",
     "text": [
      "\n",
      "[IVF+PQ Index] Top-5 Neighbors\n",
      "Indices: [[466 749 502 606 379]]\n",
      "Distances: [[5.6911244 6.2623863 6.339216  6.6623445 6.7479343]]\n"
     ]
    }
   ],
   "source": [
    "# -------------------------------\n",
    "# 5. IVF + PQ (Product Quantization)\n",
    "# -------------------------------\n",
    "m = 8       # number of sub-vectors\n",
    "nbits = 8   # bits per sub-vector\n",
    "index_ivfpq = faiss.IndexIVFPQ(quantizer, d, nlist, m, nbits)\n",
    "index_ivfpq.train(vectors)\n",
    "index_ivfpq.add(vectors)\n",
    "index_ivfpq.nprobe = 10\n",
    "\n",
    "distances, indices = index_ivfpq.search(xq, k)\n",
    "print(\"\\n[IVF+PQ Index] Top-5 Neighbors\")\n",
    "print(\"Indices:\", indices)\n",
    "print(\"Distances:\", distances)\n"
   ]
  },
  {
   "cell_type": "code",
   "execution_count": 6,
   "id": "74745ccb-17a2-466d-909c-8902fec24b64",
   "metadata": {
    "execution": {
     "iopub.execute_input": "2025-10-15T16:16:02.390495Z",
     "iopub.status.busy": "2025-10-15T16:16:02.389468Z",
     "iopub.status.idle": "2025-10-15T16:16:02.449571Z",
     "shell.execute_reply": "2025-10-15T16:16:02.448241Z",
     "shell.execute_reply.started": "2025-10-15T16:16:02.390420Z"
    }
   },
   "outputs": [
    {
     "name": "stdout",
     "output_type": "stream",
     "text": [
      "\n",
      "[HNSW Index] Top-5 Neighbors\n",
      "Indices: [[502 606 234  85 162]]\n",
      "Distances: [[6.099058  6.650052  6.803897  6.9097624 6.9527254]]\n"
     ]
    }
   ],
   "source": [
    "# -------------------------------\n",
    "# 6. HNSW Index (Graph-based ANN)\n",
    "# -------------------------------\n",
    "index_hnsw = faiss.IndexHNSWFlat(d, 32)  # 32 neighbors\n",
    "index_hnsw.add(vectors)\n",
    "distances, indices = index_hnsw.search(xq, k)\n",
    "print(\"\\n[HNSW Index] Top-5 Neighbors\")\n",
    "print(\"Indices:\", indices)\n",
    "print(\"Distances:\", distances)\n"
   ]
  },
  {
   "cell_type": "code",
   "execution_count": 7,
   "id": "7fb92f06-abc3-4a2d-a26b-fa46ef4da728",
   "metadata": {
    "execution": {
     "iopub.execute_input": "2025-10-15T16:16:02.452693Z",
     "iopub.status.busy": "2025-10-15T16:16:02.451889Z",
     "iopub.status.idle": "2025-10-15T16:16:02.465467Z",
     "shell.execute_reply": "2025-10-15T16:16:02.463988Z",
     "shell.execute_reply.started": "2025-10-15T16:16:02.452632Z"
    }
   },
   "outputs": [
    {
     "name": "stdout",
     "output_type": "stream",
     "text": [
      "\n",
      "[Cosine Similarity via Inner Product] Top-5 Neighbors\n",
      "Indices: [[502 785 162 234 597]]\n",
      "Distances: [[0.84342945 0.8393954  0.83852947 0.836298   0.83546114]]\n"
     ]
    }
   ],
   "source": [
    "# -------------------------------\n",
    "# 7. Cosine Similarity Search\n",
    "# -------------------------------\n",
    "faiss.normalize_L2(vectors)\n",
    "faiss.normalize_L2(xq)\n",
    "\n",
    "index_cos = faiss.IndexFlatIP(d)  # Inner product\n",
    "index_cos.add(vectors)\n",
    "distances, indices = index_cos.search(xq, k)\n",
    "print(\"\\n[Cosine Similarity via Inner Product] Top-5 Neighbors\")\n",
    "print(\"Indices:\", indices)\n",
    "print(\"Distances:\", distances)"
   ]
  },
  {
   "cell_type": "code",
   "execution_count": 8,
   "id": "d3cf3aeb-f786-43c8-a14a-fcc6fce6bb3f",
   "metadata": {
    "execution": {
     "iopub.execute_input": "2025-10-15T16:16:02.468764Z",
     "iopub.status.busy": "2025-10-15T16:16:02.467765Z",
     "iopub.status.idle": "2025-10-15T16:16:07.363854Z",
     "shell.execute_reply": "2025-10-15T16:16:07.362116Z",
     "shell.execute_reply.started": "2025-10-15T16:16:02.468691Z"
    }
   },
   "outputs": [
    {
     "name": "stdout",
     "output_type": "stream",
     "text": [
      "\n",
      "[Semantic Search Results]\n",
      "- FAISS is a library for similarity search.\n",
      "- Vector databases store embeddings for search.\n",
      "- Product Quantization compresses vectors.\n"
     ]
    }
   ],
   "source": [
    "# -------------------------------\n",
    "# 8. Semantic Search Project\n",
    "# -------------------------------\n",
    "# Sample documents\n",
    "documents = [\n",
    "    \"FAISS is a library for similarity search.\",\n",
    "    \"Vector databases store embeddings for search.\",\n",
    "    \"HNSW is a graph-based search algorithm.\",\n",
    "    \"Product Quantization compresses vectors.\",\n",
    "    \"SentenceTransformers can create embeddings from text.\"\n",
    "]\n",
    "\n",
    "# Create embeddings\n",
    "model = SentenceTransformer('all-MiniLM-L6-v2')\n",
    "embeddings = model.encode(documents, convert_to_numpy=True)\n",
    "embeddings = embeddings.astype('float32')\n",
    "\n",
    "# Normalize for cosine similarity\n",
    "faiss.normalize_L2(embeddings)\n",
    "\n",
    "# Create FAISS index\n",
    "index_semantic = faiss.IndexFlatIP(embeddings.shape[1])\n",
    "index_semantic.add(embeddings)\n",
    "\n",
    "# User query\n",
    "query = [\"How to perform vector search using FAISS?\"]\n",
    "query_emb = model.encode(query, convert_to_numpy=True).astype('float32')\n",
    "faiss.normalize_L2(query_emb)\n",
    "\n",
    "D, I = index_semantic.search(query_emb, k=3)\n",
    "print(\"\\n[Semantic Search Results]\")\n",
    "for idx in I[0]:\n",
    "    print(\"-\", documents[idx])\n"
   ]
  },
  {
   "cell_type": "code",
   "execution_count": 9,
   "id": "74b86cb1-fd52-4bcf-ae22-f3ee30384932",
   "metadata": {
    "execution": {
     "iopub.execute_input": "2025-10-15T16:16:07.366821Z",
     "iopub.status.busy": "2025-10-15T16:16:07.365895Z",
     "iopub.status.idle": "2025-10-15T16:16:07.402883Z",
     "shell.execute_reply": "2025-10-15T16:16:07.401632Z",
     "shell.execute_reply.started": "2025-10-15T16:16:07.366750Z"
    }
   },
   "outputs": [
    {
     "name": "stdout",
     "output_type": "stream",
     "text": [
      "\n",
      "Loaded index has 1000 vectors\n"
     ]
    }
   ],
   "source": [
    "# -------------------------------\n",
    "# 9. Save & Load Index\n",
    "# -------------------------------\n",
    "faiss.write_index(index_flat, \"faiss_flat.index\")\n",
    "loaded_index = faiss.read_index(\"faiss_flat.index\")\n",
    "print(\"\\nLoaded index has\", loaded_index.ntotal, \"vectors\")\n",
    "\n"
   ]
  }
 ],
 "metadata": {
  "kernelspec": {
   "display_name": "Python [conda env:base] *",
   "language": "python",
   "name": "conda-base-py"
  },
  "language_info": {
   "codemirror_mode": {
    "name": "ipython",
    "version": 3
   },
   "file_extension": ".py",
   "mimetype": "text/x-python",
   "name": "python",
   "nbconvert_exporter": "python",
   "pygments_lexer": "ipython3",
   "version": "3.13.5"
  }
 },
 "nbformat": 4,
 "nbformat_minor": 5
}
